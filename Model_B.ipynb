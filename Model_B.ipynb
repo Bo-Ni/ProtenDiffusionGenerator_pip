{
 "cells": [
  {
   "attachments": {},
   "cell_type": "markdown",
   "metadata": {},
   "source": [
    "# Model B: Protein Generator Diffusion model conditioned on residue-level secondary structure content\n",
    "\n",
    "\n",
    "**Citing this work**\n",
    "\n",
    "Any publication that discloses findings arising from using this notebook should cite the following work.\n",
    "\n",
    "B. Ni, D.L. Kaplan, M.J. Buehler, Generative design of de novo proteins based on secondary structure constraints using an attention-based diffusion model, Chem, 2023"
   ]
  },
  {
   "cell_type": "markdown",
   "metadata": {},
   "source": []
  },
  {
   "cell_type": "code",
   "execution_count": 1,
   "metadata": {},
   "outputs": [],
   "source": [
    "import torch\n",
    "import os"
   ]
  },
  {
   "cell_type": "code",
   "execution_count": 2,
   "metadata": {},
   "outputs": [
    {
     "name": "stdout",
     "output_type": "stream",
     "text": [
      "# of GPUs:  1\n"
     ]
    }
   ],
   "source": [
    "device = torch.device(\"cuda:0\" if torch.cuda.is_available() \n",
    "                                  else \"cpu\")\n",
    "# device\n",
    "available_gpus = [torch.cuda.device(i) for i in range(torch.cuda.device_count())]\n",
    "# available_gpus\n",
    "num_of_gpus = torch.cuda.device_count()\n",
    "print('# of GPUs: ', num_of_gpus)"
   ]
  },
  {
   "cell_type": "code",
   "execution_count": 3,
   "metadata": {},
   "outputs": [],
   "source": [
    "\n",
    "prefix='Local_Store/output_model_B/'\n",
    "if not os.path.exists(prefix):\n",
    "        print('Create new folder')\n",
    "        os.mkdir (prefix)"
   ]
  },
  {
   "attachments": {},
   "cell_type": "markdown",
   "metadata": {},
   "source": [
    "#### Define model"
   ]
  },
  {
   "cell_type": "code",
   "execution_count": 4,
   "metadata": {},
   "outputs": [],
   "source": [
    "# Load dataset\n",
    "ynormfac=21.\n",
    "Xnormfac=9.\n",
    "batch_size_=256\n",
    "max_length = 128\n",
    "\n",
    "# define the model\n",
    "pred_dim=1\n",
    "train_unet_number=1 #have only one unet, so must be 1\n",
    "#model parameters\n",
    "\n",
    "dim=256\n",
    "text_embed_dim = 512\n",
    "embed_dim_position=32\n",
    "text_embed_dim=text_embed_dim+embed_dim_position\n",
    "cond_dim = 512\n",
    "cond_images_channels=1"
   ]
  },
  {
   "cell_type": "code",
   "execution_count": 5,
   "metadata": {},
   "outputs": [
    {
     "name": "stderr",
     "output_type": "stream",
     "text": [
      "2023-04-21 12:29:29.499609: I tensorflow/core/platform/cpu_feature_guard.cc:182] This TensorFlow binary is optimized to use available CPU instructions in performance-critical operations.\n",
      "To enable the following instructions: AVX2 AVX512F FMA, in other operations, rebuild TensorFlow with the appropriate compiler flags.\n",
      "2023-04-21 12:29:32.575828: W tensorflow/compiler/tf2tensorrt/utils/py_utils.cc:38] TF-TRT Warning: Could not find TensorRT\n"
     ]
    }
   ],
   "source": [
    "from ProteinDiffusionGenerator.transformer import OneD_Unet, ProteinDesigner_B, params"
   ]
  },
  {
   "cell_type": "code",
   "execution_count": 6,
   "metadata": {},
   "outputs": [
    {
     "name": "stdout",
     "output_type": "stream",
     "text": [
      "256 1\n"
     ]
    }
   ],
   "source": [
    "unet = OneD_Unet(\n",
    "            dim = dim,  \n",
    "            text_embed_dim = text_embed_dim,\n",
    "            cond_dim = cond_dim, #this is where text embeddings are projected to... \n",
    "            dim_mults = (1, 2, 4, 8),\n",
    "            \n",
    "            num_resnet_blocks = 1, \n",
    "            layer_attns = (False, True, True, False),\n",
    "            layer_cross_attns = (False, True, True, False),\n",
    "            channels=pred_dim,\n",
    "            channels_out=pred_dim ,       \n",
    "        \n",
    "        attn_dim_head = 64,\n",
    "        attn_heads = 8,\n",
    "        ff_mult = 2.,\n",
    "        lowres_cond = False,                # for cascading diffusion - https://cascaded-diffusion.github.io/\n",
    "        cond_images_channels = cond_images_channels,\n",
    "        layer_attns_depth =1, \n",
    "        layer_attns_add_text_cond = True,   # whether to condition the self-attention blocks with the text embeddings, as described in Appendix D.3.1\n",
    "        attend_at_middle = True,            # whether to have a layer of attention at the bottleneck (can turn off for higher resolution in cascading DDPM, before bringing in efficient attention)\n",
    "       \n",
    "        use_linear_attn = False,\n",
    "        use_linear_cross_attn = False,\n",
    "        cond_on_text = True,\n",
    "        max_text_len = max_length,\n",
    "        init_dim = None,\n",
    "        resnet_groups = 8,#8,\n",
    "        init_conv_kernel_size =7,           # kernel size of initial conv, if not using cross embed\n",
    "        init_cross_embed = False, #TODO - fix ouput size calcs for conv1d\n",
    "        init_cross_embed_kernel_sizes = (3, 7, 15),\n",
    "        cross_embed_downsample = False,\n",
    "        cross_embed_downsample_kernel_sizes = (2, 4),\n",
    "        attn_pool_text = True,\n",
    "        attn_pool_num_latents = 32,   #perceiver model latents \n",
    "        dropout = 0.,\n",
    "        memory_efficient = False,\n",
    "        init_conv_to_final_conv_residual = False,\n",
    "        use_global_context_attn = True,\n",
    "        scale_skip_connection = True,\n",
    "        final_resnet_block = True, #True,\n",
    "        final_conv_kernel_size = 3,#3,\n",
    "        cosine_sim_attn = True,\n",
    "        self_cond = False,\n",
    "        combine_upsample_fmaps = True,      # combine feature maps from all upsample blocks, used in unet squared successfully\n",
    "        pixel_shuffle_upsample = False   ,     # may address checkboard artifacts\n",
    "   \n",
    "        ).to(device)"
   ]
  },
  {
   "cell_type": "code",
   "execution_count": 7,
   "metadata": {},
   "outputs": [
    {
     "name": "stdout",
     "output_type": "stream",
     "text": [
      "Model B: Generative protein diffusion model, residue-based\n",
      "Use conditioning image during training....\n",
      "Channels in=1, channels out=1\n",
      "256 1\n",
      "Device used in ImagenEluc:  cuda:0\n",
      "Total model: \n",
      "Total model parameters:  262388274  trainable parameters:  262388274\n",
      "Unet only: \n",
      "Total model parameters:  262381970  trainable parameters:  262381970\n"
     ]
    }
   ],
   "source": [
    "pred_dim=1\n",
    "model_B =ProteinDesigner_B(\n",
    "  unet,\n",
    "  timesteps=(96,), \n",
    "  dim=dim, \n",
    "  pred_dim=pred_dim, \n",
    "  loss_type=0, elucidated=True,\n",
    "  padding_idx=0,\n",
    "  max_text_len=max_length,\n",
    "  cond_images_channels=pred_dim, #f >0 then wil use cond_images instead of text embdding (or can use both)\n",
    "  )  .to(device) \n",
    " \n",
    "print (\"Total model: \")\n",
    "params ( model_B)\n",
    "print (\"Unet only: \")\n",
    "params (model_B.imagen.unets[0])"
   ]
  },
  {
   "cell_type": "code",
   "execution_count": 8,
   "metadata": {},
   "outputs": [],
   "source": [
    "# download the pretrained model\n",
    "train_model=False #do not train if false\n",
    "\n",
    "if not train_model:\n",
    "  model_weight_file = prefix+'Model_B_final.pt'\n",
    "\n",
    "  file_exists = os.path.exists(model_weight_file)\n",
    "  if not (file_exists):\n",
    "    # download things\n",
    "    print(os.popen(f\"wget https://www.dropbox.com/s/wk8sizfbfjaz6yy/Model_B_final.pt -P {prefix}\").read())"
   ]
  },
  {
   "cell_type": "code",
   "execution_count": 9,
   "metadata": {},
   "outputs": [
    {
     "data": {
      "text/plain": [
       "<All keys matched successfully>"
      ]
     },
     "execution_count": 9,
     "metadata": {},
     "output_type": "execute_result"
    }
   ],
   "source": [
    "# load the model\n",
    "fname=f\"{prefix}Model_B_final.pt\"\n",
    "model_B.load_state_dict(torch.load(fname))"
   ]
  },
  {
   "attachments": {},
   "cell_type": "markdown",
   "metadata": {},
   "source": [
    "#### Inference"
   ]
  },
  {
   "cell_type": "code",
   "execution_count": 10,
   "metadata": {},
   "outputs": [],
   "source": [
    "# load in the tokenizer\n",
    "import pickle\n",
    "tokenizer_file = 'Model_B_tokenizers.dat'\n",
    "\n",
    "# https://github.com/Bo-Ni/ProteinDiffusionGenerator_Colab/raw/main/Model_B_tokenizers.dat\n",
    "file_exists = os.path.exists(tokenizer_file)\n",
    "if not (file_exists):\n",
    "  # download things\n",
    "  print(os.popen(\"wget https://github.com/Bo-Ni/ProteinDiffusionGenerator_Colab/raw/main/Model_B_tokenizers.dat\").read())\n",
    "\n",
    "with open(tokenizer_file, \"rb\") as f:\n",
    " tokenizer_data_1 = pickle.load(f)\n",
    "  # print(pickle.load(f))\n",
    "# print(tokenizer_data_1[0])\n",
    "tokenizer_X = tokenizer_data_1[0]\n",
    "tokenizer_y = tokenizer_data_1[1]"
   ]
  },
  {
   "cell_type": "code",
   "execution_count": 11,
   "metadata": {},
   "outputs": [],
   "source": [
    "# tokenizer_X.se"
   ]
  },
  {
   "cell_type": "code",
   "execution_count": 12,
   "metadata": {},
   "outputs": [],
   "source": [
    "from ProteinDiffusionGenerator.transformer import sample_sequence, get_DSSP_result, string_diff"
   ]
  },
  {
   "cell_type": "code",
   "execution_count": 13,
   "metadata": {},
   "outputs": [
    {
     "name": "stdout",
     "output_type": "stream",
     "text": [
      "Producing 1 samples...from image conditingig x_data  ...\n",
      "['~~HHHHHHHHHHHHHHHHHHHHHHHHHHHHHH~~']\n",
      "Device:  cuda:0\n",
      "X_cond= None\n",
      "Conditioning target sequence provided via x_data ... ['~~HHHHHHHHHHHHHHHHHHHHHHHHHHHHHH~~']\n",
      "x_data from target sequence= tensor([[[0.2222, 0.2222, 0.1111, 0.1111, 0.1111, 0.1111, 0.1111, 0.1111,\n",
      "          0.1111, 0.1111, 0.1111, 0.1111, 0.1111, 0.1111, 0.1111, 0.1111,\n",
      "          0.1111, 0.1111, 0.1111, 0.1111, 0.1111, 0.1111, 0.1111, 0.1111,\n",
      "          0.1111, 0.1111, 0.1111, 0.1111, 0.1111, 0.1111, 0.1111, 0.1111,\n",
      "          0.2222, 0.2222, 0.0000, 0.0000, 0.0000, 0.0000, 0.0000, 0.0000,\n",
      "          0.0000, 0.0000, 0.0000, 0.0000, 0.0000, 0.0000, 0.0000, 0.0000,\n",
      "          0.0000, 0.0000, 0.0000, 0.0000, 0.0000, 0.0000, 0.0000, 0.0000,\n",
      "          0.0000, 0.0000, 0.0000, 0.0000, 0.0000, 0.0000, 0.0000, 0.0000,\n",
      "          0.0000, 0.0000, 0.0000, 0.0000, 0.0000, 0.0000, 0.0000, 0.0000,\n",
      "          0.0000, 0.0000, 0.0000, 0.0000, 0.0000, 0.0000, 0.0000, 0.0000,\n",
      "          0.0000, 0.0000, 0.0000, 0.0000, 0.0000, 0.0000, 0.0000, 0.0000,\n",
      "          0.0000, 0.0000, 0.0000, 0.0000, 0.0000, 0.0000, 0.0000, 0.0000,\n",
      "          0.0000, 0.0000, 0.0000, 0.0000, 0.0000, 0.0000, 0.0000, 0.0000,\n",
      "          0.0000, 0.0000, 0.0000, 0.0000, 0.0000, 0.0000, 0.0000, 0.0000,\n",
      "          0.0000, 0.0000, 0.0000, 0.0000, 0.0000, 0.0000, 0.0000, 0.0000,\n",
      "          0.0000, 0.0000, 0.0000, 0.0000, 0.0000, 0.0000, 0.0000, 0.0000]]],\n",
      "       device='cuda:0') torch.Size([1, 1, 128])\n"
     ]
    },
    {
     "data": {
      "application/vnd.jupyter.widget-view+json": {
       "model_id": "d450a6c124da41fdbed51c154619d073",
       "version_major": 2,
       "version_minor": 0
      },
      "text/plain": [
       "0it [00:00, ?it/s]"
      ]
     },
     "metadata": {},
     "output_type": "display_data"
    },
    {
     "data": {
      "application/vnd.jupyter.widget-view+json": {
       "model_id": "8452dddf40714819b4cf8a2b97623e3e",
       "version_major": 2,
       "version_minor": 0
      },
      "text/plain": [
       "sampling time step:   0%|          | 0/96 [00:00<?, ?it/s]"
      ]
     },
     "metadata": {},
     "output_type": "display_data"
    },
    {
     "data": {
      "image/png": "[encoded data removed]",
      "text/plain": [
       "<Figure size 640x480 with 1 Axes>"
      ]
     },
     "metadata": {},
     "output_type": "display_data"
    },
    {
     "name": "stdout",
     "output_type": "stream",
     "text": [
      "(1, 128)\n",
      "For None or ~~HHHHHHHHHHHHHHHHHHHHHHHHHHHHHH~~, predicted sequence QGWAGRGRGQQADNMAFIPRRIRQRQILINQARK\n",
      "Writing FASTA file:  Local_Store/output_model_B/fasta_in_0_AH_.fasta\n",
      "Now run OmegaFold.... on device=cuda:0\n",
      "omegafold Local_Store/output_model_B/fasta_in_0_AH_.fasta Local_Store/output_model_B/ --num_cycle 16 --device=cuda:0\n"
     ]
    },
    {
     "name": "stderr",
     "output_type": "stream",
     "text": [
      "/HDD_bni/1_git_projects/VirEnv_Publication/1_test/lib/python3.9/site-packages/Bio/Data/SCOPData.py:18: BiopythonDeprecationWarning: The 'Bio.Data.SCOPData' module will be deprecated in a future release of Biopython in favor of 'Bio.Data.PDBData.\n",
      "  warnings.warn(\n",
      "Traceback (most recent call last):\n",
      "  File \"/HDD_bni/1_git_projects/VirEnv_Publication/1_test/bin/omegafold\", line 8, in <module>\n",
      "    sys.exit(main())\n",
      "  File \"/HDD_bni/1_git_projects/VirEnv_Publication/1_test/lib/python3.9/site-packages/torch/autograd/grad_mode.py\", line 27, in decorate_context\n",
      "    return func(*args, **kwargs)\n",
      "  File \"/HDD_bni/1_git_projects/VirEnv_Publication/1_test/lib/python3.9/site-packages/omegafold/__main__.py\", line 55, in main\n",
      "    model.to(args.device)\n",
      "  File \"/HDD_bni/1_git_projects/VirEnv_Publication/1_test/lib/python3.9/site-packages/torch/nn/modules/module.py\", line 927, in to\n",
      "    return self._apply(convert)\n",
      "  File \"/HDD_bni/1_git_projects/VirEnv_Publication/1_test/lib/python3.9/site-packages/torch/nn/modules/module.py\", line 579, in _apply\n",
      "    module._apply(fn)\n",
      "  File \"/HDD_bni/1_git_projects/VirEnv_Publication/1_test/lib/python3.9/site-packages/torch/nn/modules/module.py\", line 579, in _apply\n",
      "    module._apply(fn)\n",
      "  File \"/HDD_bni/1_git_projects/VirEnv_Publication/1_test/lib/python3.9/site-packages/torch/nn/modules/module.py\", line 579, in _apply\n",
      "    module._apply(fn)\n",
      "  [Previous line repeated 3 more times]\n",
      "  File \"/HDD_bni/1_git_projects/VirEnv_Publication/1_test/lib/python3.9/site-packages/torch/nn/modules/module.py\", line 602, in _apply\n",
      "    param_applied = fn(param)\n",
      "  File \"/HDD_bni/1_git_projects/VirEnv_Publication/1_test/lib/python3.9/site-packages/torch/nn/modules/module.py\", line 925, in convert\n",
      "    return t.to(device, dtype if t.is_floating_point() or t.is_complex() else None, non_blocking)\n",
      "RuntimeError: CUDA out of memory. Tried to allocate 28.00 MiB (GPU 0; 7.79 GiB total capacity; 1.86 GiB already allocated; 35.12 MiB free; 2.01 GiB reserved in total by PyTorch) If reserved memory is >> allocated memory try setting max_split_size_mb to avoid fragmentation.  See documentation for Memory Management and PYTORCH_CUDA_ALLOC_CONF\n"
     ]
    },
    {
     "name": "stdout",
     "output_type": "stream",
     "text": [
      "INFO:root:Loading weights from /home/bni/.cache/omegafold_ckpt/model.pt\n",
      "INFO:root:Constructing OmegaFold\n",
      "\n",
      "Done OmegaFold\n",
      "Resulting PDB file...:  Local_Store/output_model_B/temp_0_AH_.pdb\n",
      "Debug 1: out:  Local_Store/output_model_B/~~HHHHHHHHHHHHHHHHHHHHHHHHHHHHHH~~_0_AH__0.pdb\n",
      "Debug 2: in:  Local_Store/output_model_B/temp_0_AH_.pdb\n"
     ]
    },
    {
     "ename": "FileNotFoundError",
     "evalue": "[Errno 2] No such file or directory: 'Local_Store/output_model_B/temp_0_AH_.pdb'",
     "output_type": "error",
     "traceback": [
      "\u001b[0;31m---------------------------------------------------------------------------\u001b[0m",
      "\u001b[0;31mFileNotFoundError\u001b[0m                         Traceback (most recent call last)",
      "Cell \u001b[0;32mIn[13], line 6\u001b[0m\n\u001b[1;32m      3\u001b[0m FoldProteinOrNot \u001b[39m=\u001b[39m \u001b[39mTrue\u001b[39;00m \n\u001b[1;32m      4\u001b[0m \u001b[39m## #@param [\"False\", \"True\"] {type:\"raw\"}\u001b[39;00m\n\u001b[0;32m----> 6\u001b[0m fname \u001b[39m=\u001b[39m sample_sequence (\n\u001b[1;32m      7\u001b[0m     model_B,\n\u001b[1;32m      8\u001b[0m     x_data\u001b[39m=\u001b[39;49m[input_SS_seq],\n\u001b[1;32m      9\u001b[0m     flag\u001b[39m=\u001b[39;49moutput_file_flag,\n\u001b[1;32m     10\u001b[0m     cond_scales\u001b[39m=\u001b[39;49m\u001b[39m1.\u001b[39;49m,\n\u001b[1;32m     11\u001b[0m     foldproteins\u001b[39m=\u001b[39;49mFoldProteinOrNot,\n\u001b[1;32m     12\u001b[0m     prefix\u001b[39m=\u001b[39;49mprefix,\n\u001b[1;32m     13\u001b[0m     tokenizer_X\u001b[39m=\u001b[39;49mtokenizer_X,\n\u001b[1;32m     14\u001b[0m     tokenizer_y\u001b[39m=\u001b[39;49mtokenizer_y,\n\u001b[1;32m     15\u001b[0m      \n\u001b[1;32m     16\u001b[0m    )\n\u001b[1;32m     18\u001b[0m \u001b[39m#test for single case\u001b[39;00m\n\u001b[1;32m     19\u001b[0m DSSPresult,_,sequence_res\u001b[39m=\u001b[39mget_DSSP_result(fname) \n",
      "File \u001b[0;32m/HDD_bni/1_git_projects/VirEnv_Publication/gitspace/ProtenDiffusionGenerator_pip/ProteinDiffusionGenerator/transformer.py:3859\u001b[0m, in \u001b[0;36msample_sequence\u001b[0;34m(model, X, flag, cond_scales, foldproteins, X_string, x_data, skip_steps, inpaint_images, inpaint_masks, inpaint_resample_times, init_images, num_cycle, tokenizer_X, tokenizer_y, prefix)\u001b[0m\n\u001b[1;32m   3857\u001b[0m \u001b[39mprint\u001b[39m(\u001b[39m'\u001b[39m\u001b[39mDebug 1: out: \u001b[39m\u001b[39m'\u001b[39m, out_nam)\n\u001b[1;32m   3858\u001b[0m \u001b[39mprint\u001b[39m(\u001b[39m'\u001b[39m\u001b[39mDebug 2: in: \u001b[39m\u001b[39m'\u001b[39m, pdb_file)\n\u001b[0;32m-> 3859\u001b[0m shutil\u001b[39m.\u001b[39;49mcopy (pdb_file, out_nam) \u001b[39m#source, dest\u001b[39;00m\n\u001b[1;32m   3860\u001b[0m \u001b[39m# cmd_line = 'cp ' + pdb_file + ' ' + out_nam\u001b[39;00m\n\u001b[1;32m   3861\u001b[0m \u001b[39m# print(cmd_line)\u001b[39;00m\n\u001b[1;32m   3862\u001b[0m \u001b[39m# os.popen(cmd_line)\u001b[39;00m\n\u001b[1;32m   3863\u001b[0m \u001b[39m# print('Debug 3')\u001b[39;00m\n\u001b[1;32m   3864\u001b[0m pdb_file\u001b[39m=\u001b[39mout_nam\n",
      "File \u001b[0;32m/HDD_bni/1_git_projects/VirEnv_Publication/1_test/lib/python3.9/shutil.py:427\u001b[0m, in \u001b[0;36mcopy\u001b[0;34m(src, dst, follow_symlinks)\u001b[0m\n\u001b[1;32m    425\u001b[0m \u001b[39mif\u001b[39;00m os\u001b[39m.\u001b[39mpath\u001b[39m.\u001b[39misdir(dst):\n\u001b[1;32m    426\u001b[0m     dst \u001b[39m=\u001b[39m os\u001b[39m.\u001b[39mpath\u001b[39m.\u001b[39mjoin(dst, os\u001b[39m.\u001b[39mpath\u001b[39m.\u001b[39mbasename(src))\n\u001b[0;32m--> 427\u001b[0m copyfile(src, dst, follow_symlinks\u001b[39m=\u001b[39;49mfollow_symlinks)\n\u001b[1;32m    428\u001b[0m copymode(src, dst, follow_symlinks\u001b[39m=\u001b[39mfollow_symlinks)\n\u001b[1;32m    429\u001b[0m \u001b[39mreturn\u001b[39;00m dst\n",
      "File \u001b[0;32m/HDD_bni/1_git_projects/VirEnv_Publication/1_test/lib/python3.9/shutil.py:264\u001b[0m, in \u001b[0;36mcopyfile\u001b[0;34m(src, dst, follow_symlinks)\u001b[0m\n\u001b[1;32m    262\u001b[0m     os\u001b[39m.\u001b[39msymlink(os\u001b[39m.\u001b[39mreadlink(src), dst)\n\u001b[1;32m    263\u001b[0m \u001b[39melse\u001b[39;00m:\n\u001b[0;32m--> 264\u001b[0m     \u001b[39mwith\u001b[39;00m \u001b[39mopen\u001b[39;49m(src, \u001b[39m'\u001b[39;49m\u001b[39mrb\u001b[39;49m\u001b[39m'\u001b[39;49m) \u001b[39mas\u001b[39;00m fsrc:\n\u001b[1;32m    265\u001b[0m         \u001b[39mtry\u001b[39;00m:\n\u001b[1;32m    266\u001b[0m             \u001b[39mwith\u001b[39;00m \u001b[39mopen\u001b[39m(dst, \u001b[39m'\u001b[39m\u001b[39mwb\u001b[39m\u001b[39m'\u001b[39m) \u001b[39mas\u001b[39;00m fdst:\n\u001b[1;32m    267\u001b[0m                 \u001b[39m# macOS\u001b[39;00m\n",
      "\u001b[0;31mFileNotFoundError\u001b[0m: [Errno 2] No such file or directory: 'Local_Store/output_model_B/temp_0_AH_.pdb'"
     ]
    }
   ],
   "source": [
    "input_SS_seq = '~~HHHHHHHHHHHHHHHHHHHHHHHHHHHHHH~~' #@param {type:\"string\"}\n",
    "output_file_flag = '0_AH_' #@param {type:\"string\"}\n",
    "FoldProteinOrNot = True \n",
    "## #@param [\"False\", \"True\"] {type:\"raw\"}\n",
    "\n",
    "fname = sample_sequence (\n",
    "    model_B,\n",
    "    x_data=[input_SS_seq],\n",
    "    flag=output_file_flag,\n",
    "    cond_scales=1.,\n",
    "    foldproteins=FoldProteinOrNot,\n",
    "    prefix=prefix,\n",
    "    tokenizer_X=tokenizer_X,\n",
    "    tokenizer_y=tokenizer_y,\n",
    "     \n",
    "   )\n",
    "\n",
    "#test for single case\n",
    "DSSPresult,_,sequence_res=get_DSSP_result(fname) \n",
    "\n",
    "print (f\"\\033[1;32m INPUT:        {input_SS_seq}\\nRESULT:       {DSSPresult}\\nAA sequence:  {sequence_res}\")\n",
    "error=string_diff (DSSPresult, input_SS_seq)/len (input_SS_seq)\n",
    "print (\"\\033[1;32m Error: \", error)\n",
    "\n",
    "# for display purpose"
   ]
  },
  {
   "cell_type": "code",
   "execution_count": null,
   "metadata": {},
   "outputs": [
    {
     "ename": "",
     "evalue": "",
     "output_type": "error",
     "traceback": [
      "\u001b[1;31mnotebook controller is DISPOSED. \n",
      "\u001b[1;31mView Jupyter <a href='command:jupyter.viewOutput'>log</a> for further details."
     ]
    },
    {
     "ename": "",
     "evalue": "",
     "output_type": "error",
     "traceback": [
      "\u001b[1;31mnotebook controller is DISPOSED. \n",
      "\u001b[1;31mView Jupyter <a href='command:jupyter.viewOutput'>log</a> for further details."
     ]
    }
   ],
   "source": []
  }
 ],
 "metadata": {
  "kernelspec": {
   "display_name": "Python 3",
   "language": "python",
   "name": "python3"
  },
  "language_info": {
   "codemirror_mode": {
    "name": "ipython",
    "version": 3
   },
   "file_extension": ".py",
   "mimetype": "text/x-python",
   "name": "python",
   "nbconvert_exporter": "python",
   "pygments_lexer": "ipython3",
   "version": "3.9.16"
  },
  "orig_nbformat": 4
 },
 "nbformat": 4,
 "nbformat_minor": 2
}
